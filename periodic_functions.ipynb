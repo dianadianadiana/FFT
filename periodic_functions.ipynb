{
 "metadata": {
  "name": "",
  "signature": "sha256:f8c501485e9310ecaff50b6dbbec8f7862f823bb58809d590392557bce0a8a9d"
 },
 "nbformat": 3,
 "nbformat_minor": 0,
 "worksheets": [
  {
   "cells": [
    {
     "cell_type": "code",
     "collapsed": false,
     "input": [
      "import numpy as np\n",
      "import matplotlib.pyplot as plt\n",
      "from scipy.fftpack import fft,fftfreq\n",
      "from numpy import pi,sin"
     ],
     "language": "python",
     "metadata": {},
     "outputs": [],
     "prompt_number": 382
    },
    {
     "cell_type": "raw",
     "metadata": {},
     "source": [
      "Function that returns two arrays (x values and y values) that have been repeated a certain number of times, the purpose to to output a periodic function "
     ]
    },
    {
     "cell_type": "code",
     "collapsed": false,
     "input": [
      "def periodic_func(xmin, xmax, N, y, num):\n",
      "    \"\"\"Returns two arrays (xvalues and yvalues) that are repeated by amount num\n",
      "    xmin: min of xvalue \n",
      "    xmax: max of xvalue \n",
      "    N: # of data points\n",
      "    y: the y-values for the x-values\n",
      "    num: # of times to repeat graph\n",
      "\n",
      "    >>> a = 0\n",
      "    >>> b = 5\n",
      "    >>> N = 5\n",
      "    >>> num_repeats = 2\n",
      "    >>> x = np.linspace(a, b, N)\n",
      "    >>> print(x)\n",
      "    [ 0.    1.25  2.5   3.75  5.  ]\n",
      "    >>> y = np.piecewise(x, [x % b != 1.0, x % b <= 1.0], [-1, 1]) #box function\n",
      "    >>> print(y)\n",
      "    [ 1. -1. -1. -1.  1.]\n",
      "    >>> x1, y1 = periodic_func(a, b, N, y, num_repeats)\n",
      "    >>> print(x1)\n",
      "    [  0.     1.25   2.5    3.75   5.     5.     6.25   7.5    8.75  10.  ]\n",
      "    >>> print(y1)\n",
      "    [ 1. -1. -1. -1.  1.  1. -1. -1. -1.  1.]\n",
      "    \"\"\"\n",
      "    \n",
      "    d = xmax - xmin \n",
      "    x_ = np.linspace(xmin, xmax, N)\n",
      "    y_ = y\n",
      "    i = 1\n",
      "    while i < num:\n",
      "        x_ = np.append(x_, np.linspace(xmin + i*d, xmax + i*d, N))\n",
      "        y_ = np.append(y_, y)\n",
      "        i += 1\n",
      "    return x_, y_"
     ],
     "language": "python",
     "metadata": {},
     "outputs": [],
     "prompt_number": 383
    },
    {
     "cell_type": "code",
     "collapsed": false,
     "input": [
      "#Variables\n",
      "#a: min value of t, b: max value of t\n",
      "a = 0\n",
      "b = 8.3\n",
      "# b-a = period \n",
      "period = b - a\n",
      "print(\"Period: \" + str(period) + \" hours\")\n",
      "d = 1.0 #float #duration of transit\n",
      "print(\"Transit time: \" + str(d) + \" hour(s)\")\n",
      "\n",
      "#N: number of data points\n",
      "N = 1000.0 #float\n",
      "#distance between points\n",
      "d_pts = (b - a) / N\n",
      "#Nyquist frequency # https://en.wikipedia.org/wiki/Nyquist_frequency\n",
      "nyquist_freq = .5 / d_pts\n",
      "print(\"Nyquist frequency: \" + str(nyquist_freq))\n",
      "\n",
      "#v1: top value for flux, v2: bottom value for flux\n",
      "v1 = 1\n",
      "v2 = .9\n",
      "num_repeat = 10 #number of times for the base graph to be repeated\n",
      "\n",
      "t = np.linspace(a, b, N) #the time values"
     ],
     "language": "python",
     "metadata": {},
     "outputs": [
      {
       "output_type": "stream",
       "stream": "stdout",
       "text": [
        "Period: 8.3 hours\n",
        "Transit time: 1.0 hour(s)\n",
        "Nyquist frequency: 60.2409638554\n"
       ]
      }
     ],
     "prompt_number": 384
    },
    {
     "cell_type": "raw",
     "metadata": {},
     "source": [
      "Box Function"
     ]
    },
    {
     "cell_type": "code",
     "collapsed": false,
     "input": [
      "y_box = np.piecewise(t, [t % b != d, t % b <= d], [v1, v2])"
     ],
     "language": "python",
     "metadata": {},
     "outputs": [],
     "prompt_number": 385
    },
    {
     "cell_type": "raw",
     "metadata": {},
     "source": [
      "Triangle Function"
     ]
    },
    {
     "cell_type": "code",
     "collapsed": false,
     "input": [
      "m1 = 2/d*(v2-v1) #downward slope for triangle \n",
      "m2 = m1 * (-1) #upward slope for triangle\n",
      "\n",
      "y_triangle = np.piecewise(t, [t <= d / 2, t > d /2, t >= d], \n",
      "                          [lambda x: v1 + m1*x, lambda x: v2 +m2*(x-d/2), v1])"
     ],
     "language": "python",
     "metadata": {},
     "outputs": [],
     "prompt_number": 386
    },
    {
     "cell_type": "raw",
     "metadata": {},
     "source": [
      "Sine Function"
     ]
    },
    {
     "cell_type": "code",
     "collapsed": false,
     "input": [
      "amp = (v2 - v1) / 2 #amplitude\n",
      "y_sin_int =  (v2 + v1) / 2 #y intercept (move it up and down)\n",
      "theta = 0 #phase shift\n",
      "norm_fact = 2.0 / N #normalization factor (only for sin or for other functions too?)\n",
      "\n",
      "y_sin = amp * sin(2*pi*t/period + theta) + y_sin_int"
     ],
     "language": "python",
     "metadata": {},
     "outputs": [],
     "prompt_number": 387
    },
    {
     "cell_type": "code",
     "collapsed": false,
     "input": [
      "#plot light curve\n",
      "plt.figure()\n",
      "y = y_sin #choose which y to use\n",
      "x1, y1 = periodic_func(a, b, N, y, num_repeat)\n",
      "plt.plot(x1, y1)\n",
      "\n",
      "plt.xlim([a, b*num_repeat])\n",
      "val_avg = np.average([np.abs(v1), np.abs(v2)])\n",
      "plt.ylim([v2 - val_avg, v1 + val_avg])\n",
      "\n",
      "plt.xlabel('Time (hours)')\n",
      "plt.ylabel('Flux') #should it be change in flux? change in percentage of flux?\n",
      "plt.title('Periodic Light Curve')\n",
      "plt.show()"
     ],
     "language": "python",
     "metadata": {},
     "outputs": [
      {
       "metadata": {},
       "output_type": "display_data",
       "png": "[encoded data removed]",
       "text": [
        "<matplotlib.figure.Figure at 0xb06ecf8>"
       ]
      }
     ],
     "prompt_number": 388
    },
    {
     "cell_type": "code",
     "collapsed": false,
     "input": [
      "#plot FFT\n",
      "plt.figure()\n",
      "\n",
      "fy = fft(y) * norm_fact\n",
      "fy_real = np.real(fy)\n",
      "fy_imag = np.imag(fy)\n",
      "\n",
      "freq = fftfreq(np.int(N))\n",
      "freq_shift = np.fft.fftshift(freq)\n",
      "freq_fact = 1.0 / d_pts #frequency factor\n",
      "\n",
      "plt.plot(freq*freq_fact, fy_real, 'g')\n",
      "plt.plot(freq*freq_fact, fy_imag, 'g--')\n",
      "plt.plot(freq_shift*freq_fact, fy_real, 'b')\n",
      "plt.plot(freq_shift*freq_fact, fy_imag, 'b--')\n",
      "#plt.plot(freq*freq_fact, np.abs(fy),'b--')\n",
      "#plt.xlim([-.6,.6])\n",
      "#plt.ylim([0,.004])\n",
      "\n",
      "plt.title(\"FFT\")\n",
      "plt.xlabel(\"Frequency\")\n",
      "plt.ylabel(\"Amplitude\")\n",
      "plt.show()"
     ],
     "language": "python",
     "metadata": {},
     "outputs": [
      {
       "metadata": {},
       "output_type": "display_data",
       "png": "[encoded data removed]",
       "text": [
        "<matplotlib.figure.Figure at 0x862deb8>"
       ]
      }
     ],
     "prompt_number": 389
    },
    {
     "cell_type": "code",
     "collapsed": false,
     "input": [
      "pos_max_power = np.argmax(fy_real)\n",
      "print(\"frequency of max power: \" + str(freq[pos_max_power]*freq_fact)) #why is this 0.0?\n",
      "print(\"frequency of max power shifted: \" + str(freq_shift[pos_max_power]*freq_fact))"
     ],
     "language": "python",
     "metadata": {},
     "outputs": [
      {
       "output_type": "stream",
       "stream": "stdout",
       "text": [
        "frequency of max power: 0.0\n",
        "frequency of max power shifted: -60.2409638554\n"
       ]
      }
     ],
     "prompt_number": 390
    },
    {
     "cell_type": "code",
     "collapsed": false,
     "input": [],
     "language": "python",
     "metadata": {},
     "outputs": [],
     "prompt_number": 390
    }
   ],
   "metadata": {}
  }
 ]
}