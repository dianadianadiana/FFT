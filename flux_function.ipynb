{
 "metadata": {
  "name": "",
  "signature": "sha256:120fc07b8c424f502e800f5a7c1e98fb827065686be66cb42b3325d2177ebe1f"
 },
 "nbformat": 3,
 "nbformat_minor": 0,
 "worksheets": [
  {
   "cells": [
    {
     "cell_type": "code",
     "collapsed": false,
     "input": [
      "%matplotlib inline\n",
      "import numpy as np\n",
      "import matplotlib.pyplot as plt\n",
      "from scipy.fftpack import fft, fftfreq\n",
      "import timeit\n",
      "from timeit import Timer"
     ],
     "language": "python",
     "metadata": {},
     "outputs": [],
     "prompt_number": 20
    },
    {
     "cell_type": "code",
     "collapsed": false,
     "input": [
      "def flux(t, x):\n",
      "    \"\"\" Takes a time array and a parameter array to output a flux array\n",
      "    \n",
      "    t: time array\n",
      "    x: parameter array == [delta, t0, period, d, sigma]\n",
      "        x[0] = delta: change in flux\n",
      "        x[1] = t0: time of transit (hours)\n",
      "        x[2] = period: orbital period (hours)\n",
      "        x[3] = d: duration of transit(hours)\n",
      "        x[4] = sigma: amount of scatter\n",
      "        x[5] = time_int: time interval of receiving data in hours\n",
      "    \"\"\"\n",
      "#     print(\"t: \" + str(x[2]))\n",
      "#     print(t)\n",
      "    orbital_phase = (t-x[1])/x[2] # orbital_phase = (t-t0)/period ##phase = 0 at t0\n",
      "#     print(\"orbital_phase: \" + str(x[2]))\n",
      "#     print(orbital_phase)\n",
      "    m = np.modf(orbital_phase)[1] # takes the integer part of the array\n",
      "#     m1 = np.modf(orbital_phase)[0] #takes the float part of the array\n",
      "#     print(\"m: \" + str(x[2]))\n",
      "#     print(m)\n",
      "#     print(\"m1: \" + str(x[2]))\n",
      "#     print(m1)\n",
      "    t_m = t0 + m*x[2]# t(m) = t0 + m(t) * period\n",
      "#     print(\"t_m: \" + str(x[2]))\n",
      "#     print(t_m)\n",
      "#     print(\"t - t_m: \" + str(x[2]) + \"; d: \" + str(x[3]))\n",
      "#     print(t-t_m)\n",
      "\n",
      "    # when the period is not nicely divisble by the time interval\n",
      "    if (x[2]/x[5]) % 1 != 0:\n",
      "        \n",
      "        # b: array with indicies where m changes\n",
      "        i = 1\n",
      "        b = np.empty(0)\n",
      "        while i < len(m):\n",
      "            if m[i-1] != m[i]:\n",
      "                b = np.append(b, i)\n",
      "            i += 1\n",
      "\n",
      "        # c: array (same len as b) with values to correct t-t_m\n",
      "        c = np.empty(0, dtype = float)\n",
      "        for i in b:\n",
      "            c = np.append(c, t[i] - t_m[i])\n",
      "            \n",
      "        # double loop that corrects t-t_m\n",
      "        i = 1\n",
      "        while i < len(c):\n",
      "            j = b[i-1]\n",
      "            while j < b[i]:\n",
      "                #if m[j] == i:\n",
      "                t_m[j] = t_m[j] + c[i-1]\n",
      "                j += 1\n",
      "            i += 1\n",
      "\n",
      "    trans_bool = np.abs(t-t_m) <= d/2\n",
      "    \n",
      "    flux_mod = [1-x[0] if i else 1 for i in trans_bool] + np.random.random_sample(N) * x[4]\n",
      "    return flux_mod"
     ],
     "language": "python",
     "metadata": {},
     "outputs": [],
     "prompt_number": 21
    },
    {
     "cell_type": "code",
     "collapsed": false,
     "input": [
      "#Variables\n",
      "\n",
      "delta = .1 # depth # (Rplanet / Rstar)**2\n",
      "t0 = 0.0 # time of transit in hours\n",
      "period = 4.65 # orbital period in hours\n",
      "d = .1 # duration of transit in hours\n",
      "sigma = 0.04 #scatter\n",
      "time_int = .5 # time interval of receiving data in hours\n",
      "x = [delta, t0, period, d, sigma, time_int]\n",
      "\n",
      "print(\"Period: \" + str(period) + \" hours\")\n",
      "print(\"Duration of Transit: \" + str(d) + \" hour(s)\")\n",
      "print(\"Time Interval of collecting data: \" + str(time_int) + \" hours\")\n",
      "\n",
      "a, b = 0, 1500\n",
      "#N: number of data points\n",
      "N = np.round((b-a) / time_int) #float\n",
      "print(\"Number of data points: \" + str(N))\n",
      "t = np.linspace(a, b, N, endpoint = False)\n",
      "d_pts = (b-a)/N\n",
      "print(\"Number of Periods: \" +str((b-a)/period))\n",
      "\n",
      "#plot lightcurve\n",
      "f = flux(t, x)\n",
      "plt.plot(t, f)\n",
      "plt.title(\"Lightcurve\")\n",
      "plt.xlabel(\"Time (Hours)\")\n",
      "plt.ylabel(\"Flux\")\n",
      "plt.xlim([a,b])\n",
      "plt.ylim([.7,1.3])\n",
      "plt.show()"
     ],
     "language": "python",
     "metadata": {},
     "outputs": [
      {
       "output_type": "stream",
       "stream": "stdout",
       "text": [
        "Period: 4.65 hours\n",
        "Duration of Transit: 0.1 hour(s)\n",
        "Time Interval of collecting data: 0.5 hours\n",
        "Number of data points: 3000.0\n",
        "Number of Periods: 322.580645161\n"
       ]
      },
      {
       "metadata": {},
       "output_type": "display_data",
       "png": "[encoded data removed]",
       "text": [
        "<matplotlib.figure.Figure at 0x848ae80>"
       ]
      }
     ],
     "prompt_number": 22
    },
    {
     "cell_type": "code",
     "collapsed": false,
     "input": [
      "#FFT part\n",
      "\n",
      "norm_fact = 2.0 / N # normalization factor \n",
      "f_flux = fft(f) * norm_fact\n",
      "\n",
      "freq = fftfreq(np.int(len(f)))\n",
      "freq_fact = 1.0 / d_pts # frequency factor \n",
      "\n",
      "postivefreq = freq > 0 # take only positive values\n",
      "freq, f_flux = freq[postivefreq], f_flux[postivefreq]\n",
      "\n",
      "power = np.abs(f_flux)\n",
      "\n",
      "conv_hr_day = 24. #conversion factor from cycles/hour to cycles/day\n",
      "plt.plot(freq*freq_fact*conv_hr_day, power,'b')\n",
      "#plot in log space\n",
      "#f_flux_log = np.logspace\n",
      "\n",
      "plt.title(\"FFT\")\n",
      "plt.xlabel(\"Frequency (cycles/day)\")\n",
      "plt.ylabel(\"Amplitude\")\n",
      "plt.show()"
     ],
     "language": "python",
     "metadata": {},
     "outputs": [
      {
       "metadata": {},
       "output_type": "display_data",
       "png": "[encoded data removed]",
       "text": [
        "<matplotlib.figure.Figure at 0x813c4a8>"
       ]
      }
     ],
     "prompt_number": 23
    },
    {
     "cell_type": "code",
     "collapsed": false,
     "input": [
      "pos_max_power = np.argmax(power)\n",
      "\n",
      "print(\"Frequency of max power (cycles/day): \" + str(freq[pos_max_power]*freq_fact*conv_hr_day))\n",
      "print(\"Expected frequency (cycles/day): \" + str((1.0/period)*conv_hr_day))\n",
      "print((freq[pos_max_power]*freq_fact*conv_hr_day) / ((1.0/period)*conv_hr_day))"
     ],
     "language": "python",
     "metadata": {},
     "outputs": [
      {
       "output_type": "stream",
       "stream": "stdout",
       "text": [
        "Frequency of max power (cycles/day): 10.32\n",
        "Expected frequency (cycles/day): 5.16129032258\n",
        "1.9995\n"
       ]
      }
     ],
     "prompt_number": 24
    },
    {
     "cell_type": "code",
     "collapsed": false,
     "input": [
      "###ignore\n",
      "# orbital_phase = (t-t0)/period\n",
      "# m = np.modf(orbital_phase)[1]   \n",
      "# t_m = t0 + m*period\n",
      "\n",
      "# plt.plot(t, m)\n",
      "# plt.show()\n",
      "# plt.figure()\n",
      "# plt.plot(t, t_m)"
     ],
     "language": "python",
     "metadata": {},
     "outputs": [],
     "prompt_number": 25
    },
    {
     "cell_type": "code",
     "collapsed": false,
     "input": [
      "###ignore\n",
      "# trans_bool = np.abs(t-t_m) <= d/2\n",
      "# flux_mod = [1-x[0] if i else 1 for i in trans_bool] #x[0] = delta\n",
      "# plt.plot(t, flux_mod)\n",
      "# plt.ylim([0,2])\n",
      "# plt.show()"
     ],
     "language": "python",
     "metadata": {},
     "outputs": [],
     "prompt_number": 26
    },
    {
     "cell_type": "code",
     "collapsed": false,
     "input": [
      "###ignore\n",
      "#float_t, int_t = np.modf(t)\n",
      "#np.modf(t)"
     ],
     "language": "python",
     "metadata": {},
     "outputs": [],
     "prompt_number": 27
    }
   ],
   "metadata": {}
  }
 ]
}