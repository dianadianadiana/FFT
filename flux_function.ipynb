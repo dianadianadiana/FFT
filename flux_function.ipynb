{
 "metadata": {
  "name": "",
  "signature": "sha256:185247167adab9afe77e73b6f739fab0903abf13b99249945a61dc93536970b0"
 },
 "nbformat": 3,
 "nbformat_minor": 0,
 "worksheets": [
  {
   "cells": [
    {
     "cell_type": "code",
     "collapsed": false,
     "input": [
      "import numpy as np\n",
      "import matplotlib.pyplot as plt\n",
      "from scipy.fftpack import fft, fftfreq\n",
      "from numpy import pi,sin"
     ],
     "language": "python",
     "metadata": {},
     "outputs": [],
     "prompt_number": 17
    },
    {
     "cell_type": "code",
     "collapsed": false,
     "input": [
      "def flux(t, x):\n",
      "    \"\"\" Takes a time array, and a parameter array to output a flux array\n",
      "    \n",
      "    t: time array\n",
      "    x: array - [delta, t0, period, d, sigma]\n",
      "        delta: change in flux\n",
      "        t0: time of transit (hours)\n",
      "        period: orbital period (hours)\n",
      "        d: duration of transit(hours)\n",
      "        sigma: amount of scatter\n",
      "    \"\"\"\n",
      "    orbital_phase = (t-x[1])/x[2] #orbital_phase = (t-t0)/period ##phase = 0 at t0\n",
      "    m = np.modf(orbital_phase)[1]   \n",
      "    t_m = t0 + m*x[2]\n",
      "    trans_bool = np.abs(t-t_m) <= d/2\n",
      "    flux_mod = [1-x[0] if i else 1 for i in trans_bool]\n",
      "    return flux_mod"
     ],
     "language": "python",
     "metadata": {},
     "outputs": [],
     "prompt_number": 18
    },
    {
     "cell_type": "code",
     "collapsed": false,
     "input": [
      "#Variables\n",
      "delta = .1 # depth # (Rplanet / Rstar)**2\n",
      "t0 = 0 # time of transit in hours\n",
      "period = 8.5 # orbital period in hours\n",
      "d = .5 # duration of transit in hours\n",
      "sigma = 0 #scatter\n",
      "x = [delta, t0, period, d, sigma]\n",
      "\n",
      "time_int = .5 # time interval of receiving data in hours\n",
      "print(\"Period (hrs): \" + str(period))\n",
      "print(\"Duration of Transit (hrs): \" + str(d))\n",
      "print(\"Time Interval of collecting data (hrs): \" + str(time_int))\n",
      "\n",
      "a, b = 0, 1500\n",
      "#N: number of data points\n",
      "N = np.round((b-a) / time_int) #float\n",
      "print(\"Number of data points: \" + str(N))\n",
      "t = np.linspace(a, b, N, endpoint = False)\n",
      "d_pts = (b-a)/N\n",
      "print(\"Number of Periods: \" +str((b-a)/period))\n",
      "\n",
      "flux = flux(t,x)\n",
      "plt.plot(t, flux)\n",
      "plt.title(\"Lightcurve\")\n",
      "plt.xlabel(\"Time (Hours)\")\n",
      "plt.ylabel(\"Flux\")\n",
      "plt.ylim([0,2])\n",
      "plt.show()"
     ],
     "language": "python",
     "metadata": {},
     "outputs": [
      {
       "output_type": "stream",
       "stream": "stdout",
       "text": [
        "Period (hrs): 8.5\n",
        "Duration of Transit (hrs): 0.5\n",
        "Time Interval of collecting data (hrs): 0.5\n",
        "Number of data points: 3000.0\n",
        "Number of Periods: 176.470588235\n"
       ]
      },
      {
       "metadata": {},
       "output_type": "display_data",
       "png": "[encoded data removed]",
       "text": [
        "<matplotlib.figure.Figure at 0x80ab9e8>"
       ]
      }
     ],
     "prompt_number": 19
    },
    {
     "cell_type": "code",
     "collapsed": false,
     "input": [
      "#FFT part\n",
      "\n",
      "norm_fact = 2.0 / N # normalization factor \n",
      "f_flux = fft(flux) * norm_fact\n",
      "\n",
      "freq = fftfreq(np.int(len(flux)))\n",
      "freq_fact = 1.0 / d_pts #frequency factor # notice it is the same for y and y1\n",
      "\n",
      "postivefreq = freq > 0 # take only positive values\n",
      "freq, f_flux = freq[postivefreq], f_flux[postivefreq]\n",
      "\n",
      "power = np.abs(f_flux)\n",
      "\n",
      "conv_hr_day = 24. #conversion factor from cycles/hour to cycles/day\n",
      "plt.plot(freq*freq_fact*conv_hr_day, power,'b')\n",
      "#plt.xlim([0,.002])\n",
      "#plt.ylim([0,.004]) #plot in log space\n",
      "\n",
      "plt.title(\"FFT\")\n",
      "plt.xlabel(\"Frequency (cycles/day)\")\n",
      "plt.ylabel(\"Amplitude\")\n",
      "plt.show()"
     ],
     "language": "python",
     "metadata": {},
     "outputs": [
      {
       "metadata": {},
       "output_type": "display_data",
       "png": "[encoded data removed]",
       "text": [
        "<matplotlib.figure.Figure at 0x80a89e8>"
       ]
      }
     ],
     "prompt_number": 20
    },
    {
     "cell_type": "code",
     "collapsed": false,
     "input": [
      "pos_max_power = np.argmax(power)\n",
      "\n",
      "print(\"Frequency of max power (cycles/day): \" + str(freq[pos_max_power]*freq_fact*conv_hr_day))\n",
      "print(\"Expected frequency (cycles/day): \" + str((1.0/period)*conv_hr_day))"
     ],
     "language": "python",
     "metadata": {},
     "outputs": [
      {
       "output_type": "stream",
       "stream": "stdout",
       "text": [
        "Frequency of max power (cycles/day): 5.648\n",
        "Expected frequency (cycles/day): 2.82352941176\n"
       ]
      }
     ],
     "prompt_number": 21
    },
    {
     "cell_type": "code",
     "collapsed": false,
     "input": [
      "###ignore\n",
      "# orbital_phase = (t-t0)/period\n",
      "# m = np.modf(orbital_phase)[1]   \n",
      "# t_m = t0 + m*period\n",
      "\n",
      "# plt.plot(t, m)\n",
      "# plt.show()\n",
      "# plt.figure()\n",
      "# plt.plot(t, t_m)"
     ],
     "language": "python",
     "metadata": {},
     "outputs": [],
     "prompt_number": 22
    },
    {
     "cell_type": "code",
     "collapsed": false,
     "input": [
      "###ignore\n",
      "# trans_bool = np.abs(t-t_m) <= d/2\n",
      "# flux_mod = [1-x[0] if i else 1 for i in trans_bool] #x[0] = delta\n",
      "# plt.plot(t, flux_mod)\n",
      "# plt.ylim([0,2])\n",
      "# plt.show()"
     ],
     "language": "python",
     "metadata": {},
     "outputs": [],
     "prompt_number": 23
    },
    {
     "cell_type": "code",
     "collapsed": false,
     "input": [
      "###ignore\n",
      "#float_t, int_t = np.modf(t)\n",
      "#np.modf(t)"
     ],
     "language": "python",
     "metadata": {},
     "outputs": [],
     "prompt_number": 24
    }
   ],
   "metadata": {}
  }
 ]
}