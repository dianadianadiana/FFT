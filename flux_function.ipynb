{
 "metadata": {
  "name": "",
  "signature": "sha256:13d772632a71301b3feada416d6c272505ecbb72017044ccac852418fa950d99"
 },
 "nbformat": 3,
 "nbformat_minor": 0,
 "worksheets": [
  {
   "cells": [
    {
     "cell_type": "code",
     "collapsed": false,
     "input": [
      "import numpy as np\n",
      "import matplotlib.pyplot as plt\n",
      "from scipy.fftpack import fft, fftfreq\n",
      "from numpy import pi,sin"
     ],
     "language": "python",
     "metadata": {},
     "outputs": [],
     "prompt_number": 1
    },
    {
     "cell_type": "code",
     "collapsed": false,
     "input": [
      "def flux(t, x):\n",
      "    \"\"\" Takes a time array, and a parameter array to output a flux array\n",
      "    \n",
      "    t: time array\n",
      "    x: array - [delta, t0, period, d, sigma]\n",
      "        delta: change in flux\n",
      "        t0: time of transit (hours)\n",
      "        period: orbital period (hours)\n",
      "        d: duration of transit(hours)\n",
      "        sigma: amount of scatter\n",
      "    \"\"\"\n",
      "    orbital_phase = (t-x[1])/x[2] #orbital_phase = (t-t0)/period ##phase = 0 at t0\n",
      "    m = np.modf(orbital_phase)[1]   \n",
      "    t_m = t0 + m*x[2]\n",
      "    trans_bool = np.abs(t-t_m) <= d/2\n",
      "    flux_mod = [1-x[0] if i else 1 for i in trans_bool]\n",
      "    return flux_mod"
     ],
     "language": "python",
     "metadata": {},
     "outputs": [],
     "prompt_number": 2
    },
    {
     "cell_type": "code",
     "collapsed": false,
     "input": [
      "#Variables\n",
      "delta = .1 # depth # (Rplanet / Rstar)**2\n",
      "t0 = 0 # time of transit in hours\n",
      "period = 8.0 # orbital period in hours\n",
      "d = .8 # duration of transit in hours\n",
      "sigma = 0 #scatter\n",
      "x = [delta, t0, period, d, sigma]\n",
      "\n",
      "time_int = .5 # time interval of receiving data in hours\n",
      "print(\"Period (hrs): \" + str(period))\n",
      "print(\"Duration of Transit (hrs): \" + str(d))\n",
      "print(\"Time Interval of collecting data (hrs): \" + str(time_int))\n",
      "\n",
      "a, b = 0, 150\n",
      "#N: number of data points\n",
      "N = np.round((b-a) / time_int) #float\n",
      "print(\"Number of data points: \" + str(N))\n",
      "t = np.linspace(a, b, N, endpoint = False)\n",
      "print(\"Number of Periods: \" +str((b-a)/period))\n",
      "\n",
      "plt.plot(t, flux(t,x))\n",
      "plt.title(\"Lightcurve\")\n",
      "plt.xlabel(\"Time (Hours)\")\n",
      "plt.ylabel(\"Flux\")\n",
      "plt.ylim([0,2])\n",
      "plt.show()"
     ],
     "language": "python",
     "metadata": {},
     "outputs": [
      {
       "output_type": "stream",
       "stream": "stdout",
       "text": [
        "Period (hrs): 8.0\n",
        "Duration of Transit (hrs): 0.8\n",
        "Time Interval of collecting data (hrs): 0.5\n",
        "Number of data points: 300.0\n",
        "Number of Periods: 18.75\n"
       ]
      },
      {
       "metadata": {},
       "output_type": "display_data",
       "png": "[encoded data removed]",
       "text": [
        "<matplotlib.figure.Figure at 0x7d9aef0>"
       ]
      }
     ],
     "prompt_number": 3
    },
    {
     "cell_type": "code",
     "collapsed": false,
     "input": [],
     "language": "python",
     "metadata": {},
     "outputs": [],
     "prompt_number": 3
    },
    {
     "cell_type": "code",
     "collapsed": false,
     "input": [
      "###ignore\n",
      "orbital_phase = (t-t0)/period\n",
      "m = np.modf(orbital_phase)[1]   \n",
      "t_m = t0 + m*period\n",
      "\n",
      "# plt.plot(t, m)\n",
      "# plt.show()\n",
      "# plt.figure()\n",
      "# plt.plot(t, t_m)"
     ],
     "language": "python",
     "metadata": {},
     "outputs": [],
     "prompt_number": 4
    },
    {
     "cell_type": "code",
     "collapsed": false,
     "input": [
      "###ignore\n",
      "trans_bool = np.abs(t-t_m) <= d/2\n",
      "flux_mod = [1-x[0] if i else 1 for i in trans_bool] #x[0] = delta\n",
      "# plt.plot(t, flux_mod)\n",
      "# plt.ylim([0,2])\n",
      "# plt.show()"
     ],
     "language": "python",
     "metadata": {},
     "outputs": [],
     "prompt_number": 5
    },
    {
     "cell_type": "code",
     "collapsed": false,
     "input": [
      "###ignore\n",
      "#float_t, int_t = np.modf(t)\n",
      "#np.modf(t)"
     ],
     "language": "python",
     "metadata": {},
     "outputs": [],
     "prompt_number": 6
    }
   ],
   "metadata": {}
  }
 ]
}