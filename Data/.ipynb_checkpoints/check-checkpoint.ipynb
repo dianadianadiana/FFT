{
 "metadata": {
  "name": "",
  "signature": "sha256:47d265b76bb5ae9de0b88087054fc8fae5b2ecb14bb1f49996f2bed254cbcd3e"
 },
 "nbformat": 3,
 "nbformat_minor": 0,
 "worksheets": []
}